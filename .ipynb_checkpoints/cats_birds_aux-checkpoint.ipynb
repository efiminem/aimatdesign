{
 "cells": [
  {
   "cell_type": "code",
   "execution_count": 8,
   "metadata": {},
   "outputs": [],
   "source": [
    "import os\n",
    "import requests\n",
    "from PIL import Image\n",
    "from io import StringIO, BytesIO\n",
    "import scipy.misc\n",
    "import tqdm\n",
    "import torch, torch.nn as nn\n",
    "import torch.nn.functional as F\n",
    "from torch.autograd import Variable\n",
    "import numpy as np\n",
    "import matplotlib.pyplot as plt\n",
    "import cv2\n",
    "import copy\n",
    "from IPython.display import clear_output\n",
    "import pickle"
   ]
  },
  {
   "cell_type": "code",
   "execution_count": null,
   "metadata": {},
   "outputs": [],
   "source": [
    "def load_dataset(root_dir):\n",
    "    with open(os.path.join(root_dir, \"cats\"), \"rb\") as f:\n",
    "        cats = pickle.load(f)\n",
    "    with open(os.path.join(root_dir, \"birds\"), \"rb\") as f:\n",
    "        birds = pickle.load(f)\n",
    "    return cats, birds"
   ]
  },
  {
   "cell_type": "code",
   "execution_count": 9,
   "metadata": {},
   "outputs": [],
   "source": [
    "def prepare_dataset(cats, birds, train_val_ratio = 0.8):\n",
    "    cats = np.transpose(cats, axes = (0, 3, 1, 2))\n",
    "    birds = np.transpose(birds, axes = (0, 3, 1, 2))\n",
    "    def split(images, train_val_ratio):\n",
    "        images_train = images[:int(train_val_ratio * images.shape[0])]\n",
    "        images_val = images[int(train_val_ratio * images.shape[0]):]\n",
    "        return images_train, images_val\n",
    "    cats_train, cats_val = split(cats, train_val_ratio)\n",
    "    birds_train, birds_val = split(birds, train_val_ratio)\n",
    "    \n",
    "    def unite(cats, birds):\n",
    "        images = np.vstack([cats, birds])\n",
    "        labels = np.hstack([np.ones(cats.shape[0], dtype = int), \\\n",
    "                            np.zeros(birds.shape[0], dtype = int)])\n",
    "        permutation = np.random.permutation(images.shape[0])\n",
    "        images = images[permutation]\n",
    "        labels = labels[permutation]\n",
    "        return images, labels\n",
    "\n",
    "    images_train, labels_train = unite(cats_train, birds_train)\n",
    "    images_val, labels_val = unite(cats_val, birds_val)\n",
    "    \n",
    "    return images_train, labels_train, images_val, labels_val"
   ]
  },
  {
   "cell_type": "code",
   "execution_count": 10,
   "metadata": {},
   "outputs": [],
   "source": [
    "class Flatten(nn.Module):\n",
    "    def forward(self, input):\n",
    "        return input.view(input.size(0), -1)"
   ]
  },
  {
   "cell_type": "code",
   "execution_count": 11,
   "metadata": {},
   "outputs": [],
   "source": [
    "def compute_loss(X_batch, y_batch):\n",
    "    X_batch = Variable(torch.FloatTensor(X_batch)).cuda()\n",
    "    y_batch = Variable(torch.LongTensor(y_batch)).cuda()\n",
    "    logits = model(X_batch)\n",
    "    return F.cross_entropy(logits, y_batch).mean()"
   ]
  },
  {
   "cell_type": "code",
   "execution_count": 12,
   "metadata": {},
   "outputs": [],
   "source": [
    "def iterate_minibatches(X, y, batchsize):\n",
    "    indices = np.random.permutation(np.arange(len(X)))\n",
    "    for start in range(0, len(indices), batchsize):\n",
    "        ix = indices[start: start + batchsize]\n",
    "        yield X[ix], y[ix]"
   ]
  },
  {
   "cell_type": "code",
   "execution_count": 17,
   "metadata": {},
   "outputs": [
    {
     "data": {
      "text/plain": [
       "1"
      ]
     },
     "execution_count": 17,
     "metadata": {},
     "output_type": "execute_result"
    }
   ],
   "source": [
    "5 // 3"
   ]
  },
  {
   "cell_type": "code",
   "execution_count": 15,
   "metadata": {},
   "outputs": [],
   "source": [
    "def perform_training(model, images_train, labels_train, images_val, labels_val, n_epochs = 100, lr = 1e-4):\n",
    "    opt = torch.optim.Adam(model.parameters(), lr=lr)\n",
    "    train_loss = []\n",
    "    val_accuracy = []\n",
    "    train_accuracy = []\n",
    "    num_epochs = 100\n",
    "    batch_size = 256\n",
    "    best_val_accuracy = 0.0\n",
    "    best_val_accuracy_epoch = -1\n",
    "    best_model = None\n",
    "    try:\n",
    "        for epoch in range(n_epochs):\n",
    "            model.train(True)\n",
    "            train_loss_now = []\n",
    "            for X_batch, y_batch in tqdm.tqdm(iterate_minibatches(images_train, labels_train, batch_size),\\\n",
    "                                             total = ((labels_train.shape[0] - 1) // batch_size) + 1): \n",
    "                loss = compute_loss(X_batch, y_batch)\n",
    "                loss.backward()\n",
    "                opt.step()\n",
    "                opt.zero_grad()\n",
    "                train_loss_now.append(loss.cpu().data.numpy())\n",
    "\n",
    "            train_loss.append(np.mean(train_loss_now))\n",
    "\n",
    "            model.train(False)\n",
    "            num_correct = 0\n",
    "            for X_batch, y_batch in iterate_minibatches(images_val, labels_val, batch_size):\n",
    "                logits = model(Variable(torch.FloatTensor(X_batch)).cuda())\n",
    "                predictions_now = logits.max(1)[1].cpu().data.numpy()\n",
    "                num_correct += np.sum(predictions_now == y_batch)\n",
    "            val_accuracy.append(float(num_correct) / labels_val.shape[0])\n",
    "            if (val_accuracy[-1] > best_val_accuracy):\n",
    "                best_val_accuracy = val_accuracy[-1]\n",
    "                best_val_accuracy_epoch = epoch + 1\n",
    "                best_model = copy.deepcopy(model)\n",
    "\n",
    "            num_correct = 0\n",
    "            for X_batch, y_batch in iterate_minibatches(images_train, labels_train, batch_size):\n",
    "                logits = model(Variable(torch.FloatTensor(X_batch)).cuda())\n",
    "                predictions_now = logits.max(1)[1].cpu().data.numpy()\n",
    "                num_correct += np.sum(predictions_now == y_batch)\n",
    "            train_accuracy.append(float(num_correct) / labels_train.shape[0])\n",
    "\n",
    "            clear_output()\n",
    "            plt.plot(np.arange(len(train_accuracy)) + 1, train_accuracy, label = 'accuracy on train dataset')\n",
    "            plt.plot(np.arange(len(val_accuracy)) + 1, val_accuracy, label = 'accuracy on val_dataset')\n",
    "            print(\"accuracy on train dataset now: \", train_accuracy[-1])\n",
    "            print(\"accuracy on val dataset now: \", val_accuracy[-1])\n",
    "            print(\"best accuracy on val dataset up to now: \", best_val_accuracy)\n",
    "            print(\"best accuracy on val dataset was in epoch number: \", best_val_accuracy_epoch)\n",
    "            plt.legend()\n",
    "            plt.show()\n",
    "    except KeyboardInterrupt:\n",
    "        return best_model\n",
    "    return best_model"
   ]
  },
  {
   "cell_type": "code",
   "execution_count": null,
   "metadata": {},
   "outputs": [],
   "source": [
    "def predict(model, img):\n",
    "    img_rescaled = cv2.resize(np.array(img), dsize = (100, 75)) / 255.0\n",
    "    #print(\"how image is seen by your net\")\n",
    "    #plt.imshow(img_rescaled)\n",
    "    #plt.show()\n",
    "    #print(np.min(img), np.max(img))\n",
    "    img_rescaled = np.expand_dims(img_rescaled, axis = 0)\n",
    "    img_rescaled = np.transpose(img_rescaled, axes = (0, 3, 1, 2))\n",
    "    #print(img_rescaled.shape)\n",
    "    img_rescaled = Variable(torch.FloatTensor(img_rescaled)).cuda()\n",
    "    logits = model(img_rescaled).cpu().data.numpy()\n",
    "    logits = logits.squeeze()\n",
    "    #print(logits)\n",
    "    if (logits[0] > logits[1]) :\n",
    "        result = \"bird\"\n",
    "    else:\n",
    "        result = \"cat\"\n",
    "    return result"
   ]
  },
  {
   "cell_type": "code",
   "execution_count": 1,
   "metadata": {},
   "outputs": [],
   "source": [
    "def predict_by_url(model, url):\n",
    "    response = requests.get(url)\n",
    "    img = Image.open(BytesIO(response.content))\n",
    "    plt.imshow(img)\n",
    "    plt.show()\n",
    "    result = predict(model, img)\n",
    "    return result"
   ]
  }
 ],
 "metadata": {
  "kernelspec": {
   "display_name": "Python 3",
   "language": "python",
   "name": "python3"
  },
  "language_info": {
   "codemirror_mode": {
    "name": "ipython",
    "version": 3
   },
   "file_extension": ".py",
   "mimetype": "text/x-python",
   "name": "python",
   "nbconvert_exporter": "python",
   "pygments_lexer": "ipython3",
   "version": "3.6.5"
  }
 },
 "nbformat": 4,
 "nbformat_minor": 2
}
