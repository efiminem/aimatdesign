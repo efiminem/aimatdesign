{
 "cells": [
  {
   "cell_type": "code",
   "execution_count": null,
   "metadata": {},
   "outputs": [],
   "source": [
    "import torch, torch.nn as nn"
   ]
  },
  {
   "cell_type": "code",
   "execution_count": null,
   "metadata": {},
   "outputs": [],
   "source": [
    "class CrystalGraphConvNet(nn.Module):\n",
    "    \"\"\"\n",
    "    Create a crystal graph convolutional neural network for predicting total\n",
    "    material properties.\n",
    "    \"\"\"\n",
    "    def __init__(self, orig_atom_fea_len, nbr_fea_len,\n",
    "                 atom_fea_len=64, h_fea_len=256):\n",
    "        \"\"\"\n",
    "        Initialize CrystalGraphConvNet.\n",
    "        Parameters\n",
    "        ----------\n",
    "        orig_atom_fea_len: int\n",
    "          Number of atom features in the input.\n",
    "        nbr_fea_len: int\n",
    "          Number of bond features.\n",
    "        atom_fea_len: int\n",
    "          Number of hidden atom features in the convolutional layers\n",
    "        h_fea_len: int\n",
    "          Number of hidden features after pooling\n",
    "        \"\"\"\n",
    "        super(CrystalGraphConvNet, self).__init__()\n",
    "        self.embedding = nn.Linear(orig_atom_fea_len, atom_fea_len)\n",
    "        self.conv = GraphConvLayer(atom_fea_len=atom_fea_len, nbr_fea_len=nbr_fea_len)\n",
    "        self.pooling = GraphPooling()\n",
    "        self.conv_to_fc = nn.Linear(atom_fea_len, h_fea_len)\n",
    "        self.softplus = nn.Softplus()\n",
    "        self.fc_out = nn.Linear(h_fea_len, 1)\n",
    "\n",
    "    def forward(self, atom_fea, nbr_fea, nbr_fea_idx, crystal_atom_idx):\n",
    "        \"\"\"\n",
    "        Forward pass\n",
    "        N: Total number of atoms in the batch\n",
    "        M: Max number of neighbors\n",
    "        N0: Total number of crystals in the batch\n",
    "        Parameters\n",
    "        ----------\n",
    "        atom_fea: Variable(torch.Tensor) shape (N, orig_atom_fea_len)\n",
    "          Atom features from atom type\n",
    "        nbr_fea: Variable(torch.Tensor) shape (N, M, nbr_fea_len)\n",
    "          Bond features of each atom's M neighbors\n",
    "        nbr_fea_idx: torch.LongTensor shape (N, M)\n",
    "          Indices of M neighbors of each atom\n",
    "        crystal_atom_idx: list of torch.LongTensor of length N0\n",
    "          Mapping from the crystal idx to atom idx\n",
    "        Returns\n",
    "        -------\n",
    "        prediction: nn.Variable shape (N, )\n",
    "          Atom hidden features after convolution\n",
    "        \"\"\"\n",
    "        atom_fea = self.embedding(atom_fea)\n",
    "        atom_fea = self.conv(atom_fea, nbr_fea, nbr_fea_idx)\n",
    "        crys_fea = self.pooling(atom_fea, crystal_atom_idx)\n",
    "        crys_fea = self.softplus(crys_fea)\n",
    "        crys_fea = self.conv_to_fc(crys_fea)\n",
    "        crys_fea = self.softplus(crys_fea)\n",
    "        out = self.fc_out(crys_fea)\n",
    "        return out"
   ]
  }
 ],
 "metadata": {
  "kernelspec": {
   "display_name": "Python 3",
   "language": "python",
   "name": "python3"
  },
  "language_info": {
   "codemirror_mode": {
    "name": "ipython",
    "version": 3
   },
   "file_extension": ".py",
   "mimetype": "text/x-python",
   "name": "python",
   "nbconvert_exporter": "python",
   "pygments_lexer": "ipython3",
   "version": "3.6.5"
  }
 },
 "nbformat": 4,
 "nbformat_minor": 2
}
